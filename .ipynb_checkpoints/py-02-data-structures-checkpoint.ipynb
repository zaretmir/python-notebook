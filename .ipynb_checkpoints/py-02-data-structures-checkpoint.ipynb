{
 "cells": [
  {
   "cell_type": "markdown",
   "metadata": {},
   "source": [
    "# Lists\n",
    "\n",
    "## Create lists"
   ]
  },
  {
   "cell_type": "code",
   "execution_count": 1,
   "metadata": {},
   "outputs": [],
   "source": [
    "array = [\"a\", 2, False]\n",
    "matrix = [[0,2], [3,7]]\n",
    "\n",
    "#crear una lista con elementos repetidos\n",
    "zeros = [0] * 10\n",
    "\n",
    "#crear una lista a partir de iterables\n",
    "numbers = list(range(0,20))\n",
    "chars = list(\"Strings are iterables\")"
   ]
  },
  {
   "cell_type": "markdown",
   "metadata": {},
   "source": [
    "## Access items in a list"
   ]
  },
  {
   "cell_type": "code",
   "execution_count": 4,
   "metadata": {},
   "outputs": [
    {
     "name": "stdout",
     "output_type": "stream",
     "text": [
      "A\n",
      "['A', 'c', 'e']\n",
      "['e', 'd', 'c', 'b', 'A']\n"
     ]
    }
   ],
   "source": [
    "letters = [\"a\", \"b\", \"c\", \"d\", \"e\"]\n",
    "letters[0] = \"A\"\n",
    "print(letters[0])\n",
    "\n",
    "# step: acceder cada n elemento de una lista\n",
    "print(letters[::2])\n",
    "\n",
    "#dar la vuelta a una lista\n",
    "print(letters[::-1])"
   ]
  },
  {
   "cell_type": "markdown",
   "metadata": {},
   "source": [
    "## Unpacking lists"
   ]
  },
  {
   "cell_type": "code",
   "execution_count": 6,
   "metadata": {},
   "outputs": [
    {
     "name": "stdout",
     "output_type": "stream",
     "text": [
      "1\n",
      "2\n",
      "[3, 4, 5, 6, 7, 8, 9]\n",
      "1\n",
      "[2, 3, 4, 5, 6, 7, 8]\n",
      "9\n"
     ]
    }
   ],
   "source": [
    "numbers = [1, 2, 3]\n",
    "\n",
    "#extraer elementos SIN unpacking\n",
    "first = numbers[0]\n",
    "second = numbers[1]\n",
    "third = numbers[2]\n",
    "\n",
    "#extraer elementos CON unpacking\n",
    "first, second,  third = numbers\n",
    "\n",
    "more_numbers = [1, 2, 3, 4, 5, 6, 7, 8, 9]\n",
    "#first, second, third = more_numbers #error: too many items to unpack\n",
    "\n",
    "#extraer un subset con packing: ejemplo 1\n",
    "first, second, *others = more_numbers\n",
    "print(first)\n",
    "print(second)\n",
    "print(others)\n",
    "\n",
    "#extraer un subset con packing: ejemplo 2\n",
    "first, *others, last = more_numbers\n",
    "print(first)\n",
    "print(others)\n",
    "print(last)"
   ]
  },
  {
   "cell_type": "markdown",
   "metadata": {},
   "source": [
    "## Looping over lists\n"
   ]
  },
  {
   "cell_type": "code",
   "execution_count": 7,
   "metadata": {},
   "outputs": [
    {
     "name": "stdout",
     "output_type": "stream",
     "text": [
      "a\n",
      "b\n",
      "c\n",
      "0 a\n",
      "1 b\n",
      "2 c\n",
      "0 a\n",
      "1 b\n",
      "2 c\n"
     ]
    }
   ],
   "source": [
    "letters = [\"a\", \"b\", \"c\"]\n",
    "\n",
    "#solo elementos\n",
    "for letter in letters:\n",
    "    print(letter)"
   ]
  },
  {
   "cell_type": "markdown",
   "metadata": {},
   "source": [
    "### `enumerate` si necesitamos índices\n",
    "Devuelve un objeto enumerate, que es \"una lista de tuples\"."
   ]
  },
  {
   "cell_type": "code",
   "execution_count": null,
   "metadata": {},
   "outputs": [],
   "source": [
    "#elementos con índice\n",
    "for letter in enumerate(letters):\n",
    "    print(letter[0], letter[1])\n",
    "    \n",
    "#o mejor\n",
    "for index, letter in enumerate(letters):\n",
    "    print(index, letter)"
   ]
  },
  {
   "cell_type": "markdown",
   "metadata": {},
   "source": [
    "## Add and remove items\n",
    "\n",
    "\n",
    "\n",
    "| método                  | efecto                              |\n",
    "|-------------------------|-------------------------------------|\n",
    "| `list.append(val)`      | añade al final de la lista          |\n",
    "| `list.insert(pos, val)` | añade en la posición especificada   |\n",
    "| `list.pop()`            | elimina el último                   |\n",
    "| `list.pop(pos)`         |  elimina el de la posición indicada |\n",
    "| `list.remove(val)`      | elimina la primera ocurrencia       |\n",
    "| `del list[0:3]`         | elimina un conjunto de elementos    |\n",
    "| `list.clear()`          | elimina todos los elementos         |"
   ]
  },
  {
   "cell_type": "markdown",
   "metadata": {},
   "source": [
    "## Find items"
   ]
  },
  {
   "cell_type": "code",
   "execution_count": 1,
   "metadata": {},
   "outputs": [
    {
     "name": "stdout",
     "output_type": "stream",
     "text": [
      "0\n"
     ]
    }
   ],
   "source": [
    "letters = [\"a\", \"b\", \"c\"]\n",
    "\n",
    "#print(index(\"d\")) #error\n",
    "\n",
    "if \"d\" in letters:\n",
    "    print(index(\"d\"))\n",
    "\n",
    "print(letters.count(\"d\"))"
   ]
  },
  {
   "cell_type": "markdown",
   "metadata": {},
   "source": [
    "## Sort lists\n",
    "\n",
    "Podemos ordenar listas de manera mutable e inmutable:\n",
    "\n",
    "- **`list.sort()`** modifica nuestra lista (mutable).\n",
    "- **`sorted(list)`** crea una nueva lista ordenada."
   ]
  },
  {
   "cell_type": "markdown",
   "metadata": {},
   "source": [
    "### Ordenar listas simples"
   ]
  },
  {
   "cell_type": "code",
   "execution_count": 4,
   "metadata": {},
   "outputs": [
    {
     "name": "stdout",
     "output_type": "stream",
     "text": [
      "[2, 3, 7]\n",
      "[7, 3, 2]\n",
      "[3, 2, 7]\n"
     ]
    }
   ],
   "source": [
    "# ordenar listas sencillas\n",
    "numbers = [3, 2, 7]\n",
    "#list.sort(numbers)\n",
    "print(sorted(numbers))\n",
    "print(sorted(numbers, reverse=True))\n",
    "print(numbers)"
   ]
  },
  {
   "cell_type": "markdown",
   "metadata": {},
   "source": [
    "### Ordenar listas de objetos complejos\n",
    "\n",
    "Python no sabe cómo ordenar una lista cuando ésta está formada por objetos complejos, como por ejemplo tuplas.\n",
    "Cuando Python no sabe cómo ordenar, lo que nos va a devolver va a ser la lista con el mismo orden original.\n",
    "\n",
    "Para que python pueda ordenar, tenemos que pasarle al método `sort` una `key`, que es una función que indica el criterio de ordenación. La función:\n",
    "- Recibe un elemento de la lista.\n",
    "- Devuelve un valor, que será el criterio utilizado."
   ]
  },
  {
   "cell_type": "code",
   "execution_count": 8,
   "metadata": {},
   "outputs": [
    {
     "name": "stdout",
     "output_type": "stream",
     "text": [
      "[('ProductA', 10.99), ('ProductB', 2.15), ('ProductC', 4.78)]\n",
      "[('ProductB', 2.15), ('ProductC', 4.78), ('ProductA', 10.99)]\n"
     ]
    }
   ],
   "source": [
    "products = [\n",
    "    (\"ProductA\", 10.99),\n",
    "    (\"ProductB\", 2.15),\n",
    "    (\"ProductC\", 4.78),\n",
    "]\n",
    "\n",
    "# Si no sabe ordenar -> devuelve el mismo orden\n",
    "products.sort()\n",
    "print(products)\n",
    "\n",
    "# Definimos la función key\n",
    "def sort_items_by_price(item):\n",
    "    return item[1]\n",
    "\n",
    "# aplicamos el sort\n",
    "products.sort(key=sort_items_by_price)\n",
    "print(products)"
   ]
  },
  {
   "cell_type": "markdown",
   "metadata": {},
   "source": [
    "# 🌟 Funciones lambda `lambda parameters: expression`\n",
    "\n",
    "Una función lambda e una dunción anónima que se declara en una sola línea."
   ]
  },
  {
   "cell_type": "code",
   "execution_count": null,
   "metadata": {},
   "outputs": [],
   "source": [
    "products = [\n",
    "    (\"ProductA\", 10.99),\n",
    "    (\"ProductB\", 2.15),\n",
    "    (\"ProductC\", 4.78),\n",
    "]\n",
    "\n",
    "products.sort(key= lambda item: item[1])\n",
    "print(products)"
   ]
  },
  {
   "cell_type": "markdown",
   "metadata": {},
   "source": [
    "# Map function\n",
    "\n",
    "Igual que con JS, podemos aplicar una función map a un iterable.\n",
    "Devuelve un objeto map, que podemos convertir a una lista, por ejemplo."
   ]
  },
  {
   "cell_type": "code",
   "execution_count": 14,
   "metadata": {},
   "outputs": [
    {
     "name": "stdout",
     "output_type": "stream",
     "text": [
      "[('ProductA', 10.99), ('ProductB', 2.15), ('ProductC', 4.78)]\n",
      "[('ProductA', 13.2979), ('ProductB', 2.6014999999999997), ('ProductC', 5.7838)]\n"
     ]
    }
   ],
   "source": [
    "products = [\n",
    "    (\"ProductA\", 10.99),\n",
    "    (\"ProductB\", 2.15),\n",
    "    (\"ProductC\", 4.78),\n",
    "]\n",
    "\n",
    "products_with_vat = map(lambda item: (item[0], item[1]*1.21), products);\n",
    "\n",
    "print(products)\n",
    "print(list(products_with_vat))"
   ]
  },
  {
   "cell_type": "markdown",
   "metadata": {},
   "source": [
    "# Filter function\n",
    "Devuelve un objeto filter con los valores que han pasado el filtro."
   ]
  },
  {
   "cell_type": "code",
   "execution_count": 16,
   "metadata": {},
   "outputs": [
    {
     "name": "stdout",
     "output_type": "stream",
     "text": [
      "[('ProductA', 10.99)]\n"
     ]
    }
   ],
   "source": [
    "products = [\n",
    "    (\"ProductA\", 10.99),\n",
    "    (\"ProductB\", 2.15),\n",
    "    (\"ProductC\", 4.78),\n",
    "]\n",
    "\n",
    "products_over_10 = list(filter(lambda item: item[1]>10, products))\n",
    "\n",
    "print(products_over_10)"
   ]
  },
  {
   "cell_type": "markdown",
   "metadata": {},
   "source": [
    "# List comprehensions `[expression for item in list]`\n",
    "\n",
    "Sirve para aplicar una transformación a cada elemento de una lista.\n",
    "Es una manera más performant y limpia de hacer maps y filters."
   ]
  },
  {
   "cell_type": "code",
   "execution_count": 18,
   "metadata": {},
   "outputs": [
    {
     "name": "stdout",
     "output_type": "stream",
     "text": [
      "[10.99, 2.15, 4.78]\n",
      "['ProductA']\n"
     ]
    }
   ],
   "source": [
    "products = [\n",
    "    (\"ProductA\", 10.99),\n",
    "    (\"ProductB\", 2.15),\n",
    "    (\"ProductC\", 4.78),\n",
    "]\n",
    "\n",
    "# map\n",
    "prices = [item[1] for item in products]\n",
    "print(prices)\n",
    "\n",
    "# filter\n",
    "products_over_10 = [item[0] for item in products if item[1]>=10]\n",
    "print(products_over_10)"
   ]
  },
  {
   "cell_type": "markdown",
   "metadata": {},
   "source": [
    "# Zip function\n",
    "\n",
    "Si tenemos dos iterables, y queremos combinarlos de tal manera que se forme una sola lista con tuplas, en las que la i-ésima tupla contiene los i-ésimos valores de cada lista, usamos la función zip."
   ]
  },
  {
   "cell_type": "code",
   "execution_count": 22,
   "metadata": {},
   "outputs": [
    {
     "name": "stdout",
     "output_type": "stream",
     "text": [
      "[('inicio', 1, 9), ('punto2', 2, 3), ('punto3', 3, 1), ('fin', 4, 6)]\n"
     ]
    }
   ],
   "source": [
    "x_coords = [1, 2, 3, 4]\n",
    "y_coords = [9, 3, 1, 6]\n",
    "tags = [\"inicio\", \"punto2\", \"punto3\", \"fin\"]\n",
    "\n",
    "data = zip(tags, x_coords, y_coords)\n",
    "print(list(data))"
   ]
  },
  {
   "cell_type": "markdown",
   "metadata": {},
   "source": [
    "# 📚 Stacks, Queues\n",
    "\n",
    "ver vídeos\n",
    "\n",
    "- Stacks: LIFO (last in first out). Usar listas y métodos push y pop.\n",
    "- Queues: FIFO (first in first out). Importar `dequeue` del módulo `collections`."
   ]
  },
  {
   "cell_type": "markdown",
   "metadata": {},
   "source": [
    "# Tuples\n",
    "\n",
    "Básicamente, son read-only lists.\n",
    "- No permiten item assignment\n",
    "Al igual que las listas, se puede:\n",
    "- Extraer fragmentos.\n",
    "- Concatenar (unir).\n",
    "- Unpack\n",
    "- ..."
   ]
  },
  {
   "cell_type": "code",
   "execution_count": 37,
   "metadata": {},
   "outputs": [
    {
     "name": "stdout",
     "output_type": "stream",
     "text": [
      "(1,)\n",
      "(1, 2, 3)\n",
      "(1, 2, 5)\n",
      "(1, 4, 1, 4)\n",
      "(1, 2)\n"
     ]
    }
   ],
   "source": [
    "empty_tuple = ()\n",
    "\n",
    "point = 1,\n",
    "print(point)\n",
    "\n",
    "points = (1, 2, 3)\n",
    "print(points)\n",
    "\n",
    "points = 1, 2, 3\n",
    "print(points)\n",
    "\n",
    "more_points = (1, 2) + (5,)\n",
    "print(more_points)\n",
    "\n",
    "extra_points = (1, 4) * 2\n",
    "print(extra_points)\n",
    "\n",
    "# No permiten item assignment\n",
    "# points[0] = 3 #error\n",
    "\n",
    "# Extraer una parte\n",
    "print(points[:2])\n",
    "\n",
    "# Unpack\n",
    "first, *others, last = more_points"
   ]
  },
  {
   "cell_type": "markdown",
   "metadata": {},
   "source": [
    "# Swapping variables"
   ]
  },
  {
   "cell_type": "code",
   "execution_count": 43,
   "metadata": {},
   "outputs": [
    {
     "name": "stdout",
     "output_type": "stream",
     "text": [
      "Y X\n",
      "Y X\n"
     ]
    }
   ],
   "source": [
    "# de la manera tradicional\n",
    "x = \"X\"\n",
    "y = \"Y\"\n",
    "\n",
    "z = x\n",
    "x = y\n",
    "y = z\n",
    "print(x, y)\n",
    "\n",
    "# con Python\n",
    "x = \"X\"\n",
    "y = \"Y\"\n",
    "\n",
    "x, y = y, x # la derecha de la expresión es una tupla!\n",
    "print(x, y)"
   ]
  },
  {
   "cell_type": "markdown",
   "metadata": {},
   "source": [
    "# Arrays\n",
    "Son un datatype como las listas, pero con las siguiente ventajas:\n",
    "\n",
    "- Más rápidas (performant). Se nota sobre todo cuando tenemos una gran cantidad de valores.\n",
    "- Ocupan menos espacio.\n",
    "\n",
    "Hay que importarlo desde el módulo `array`, y hay que indicarle un [typecode](https://docs.python.org/3/library/array.html), que es una letra que indica el tipo de objetos que vamos a almacenar en el array."
   ]
  },
  {
   "cell_type": "code",
   "execution_count": 45,
   "metadata": {},
   "outputs": [
    {
     "name": "stdout",
     "output_type": "stream",
     "text": [
      "array('i', [1, 3, 5])\n"
     ]
    }
   ],
   "source": [
    "from array import array\n",
    "\n",
    "numbers = array(\"i\", [1, 3, 5])\n",
    "print(numbers)\n",
    "#numbers[0] = 2.1 #error"
   ]
  },
  {
   "cell_type": "markdown",
   "metadata": {},
   "source": [
    "# Sets\n",
    "\n",
    "Son colecciones **sin orden** de valores en las que **no hay valores repetidos**\n",
    "Operaciones interesantes:\n",
    "\n",
    "- Unión: conjunto de los items de los dos sets\n",
    "- Intersección: items que existen tanto en un set como en el otro\n",
    "- Diferencia: items que hay en el primer set pero que no están en el segundo\n",
    "- Diferencia simética: que están en el primero o en el segundo, pero no en ambos.\n"
   ]
  },
  {
   "cell_type": "code",
   "execution_count": 55,
   "metadata": {},
   "outputs": [
    {
     "name": "stdout",
     "output_type": "stream",
     "text": [
      "{1, 2, 3, 4}\n",
      "{2, 3, 4, 5}\n",
      "union {1, 2, 3, 4, 5}\n",
      "intersection {2, 3, 4}\n",
      "difference {1}\n",
      "difference {5}\n",
      "symmetric difference {1, 5}\n"
     ]
    }
   ],
   "source": [
    "numbers = [1, 1, 2, 3, 3, 4]\n",
    "unique = set(numbers)\n",
    "print(unique)\n",
    "\n",
    "other_set = {2, 3, 4, 5, 5}\n",
    "print(other_set)\n",
    "\n",
    "#union\n",
    "print(\"union\", unique | other_set)\n",
    "\n",
    "#intersection\n",
    "print(\"intersection\", unique & other_set)\n",
    "\n",
    "#difference\n",
    "print(\"difference\", unique - other_set)\n",
    "print(\"difference\", other_set - unique)\n",
    "\n",
    "#symmetric difference\n",
    "print(\"symmetric difference\", unique ^ other_set)"
   ]
  },
  {
   "cell_type": "markdown",
   "metadata": {},
   "source": [
    "# Dictionaries\n",
    "\n",
    "Son collecciones de key-value pairs. Las keys deen ser inmutables, por lo que por lo general se utilizan strings. Los values pueden ser de cualquier tipo."
   ]
  },
  {
   "cell_type": "code",
   "execution_count": 56,
   "metadata": {},
   "outputs": [],
   "source": [
    "# primera manera de declara un diccionario\n",
    "points = {\"x\": 1, \"y\": 2}\n",
    "\n",
    "#segunda manera, usando keyword arguments\n",
    "points = dict(x=1, y=2);\n",
    "\n",
    "# acceder a un valor\n",
    "print(point[\"x\"])\n",
    "\n",
    "# no podemos acceder por índice numérico\n",
    "# print(point[1]) # error"
   ]
  },
  {
   "cell_type": "markdown",
   "metadata": {},
   "source": [
    "## Acceder a entradas del diccionario\n",
    "Si intentamos acceder a una entrada del diccionario que no existe utilizando el point[\"cosa\"], nos datá un error. Es mejor utilizar el método get."
   ]
  },
  {
   "cell_type": "code",
   "execution_count": 60,
   "metadata": {},
   "outputs": [
    {
     "name": "stdout",
     "output_type": "stream",
     "text": [
      "None\n"
     ]
    }
   ],
   "source": [
    "points = {\"x\": 1, \"y\": 2}\n",
    "\n",
    "# print(points[\"z\"]) # error\n",
    "\n",
    "# si no lo encuentra, devuelve 0\n",
    "print(points.get(\"z\", 0))"
   ]
  },
  {
   "cell_type": "markdown",
   "metadata": {},
   "source": [
    "## Bucles for para diccionarios"
   ]
  },
  {
   "cell_type": "code",
   "execution_count": 64,
   "metadata": {},
   "outputs": [
    {
     "name": "stdout",
     "output_type": "stream",
     "text": [
      "x 1\n",
      "y 2\n",
      "('x', 1)\n",
      "('y', 2)\n",
      "x 1\n",
      "y 2\n"
     ]
    }
   ],
   "source": [
    "points = {\"x\": 1, \"y\": 2}\n",
    "\n",
    "for key in points:\n",
    "    print(key, points[key])\n",
    "    \n",
    "for entry in points.items():\n",
    "    print(entry)\n",
    "\n",
    "for key, value in points.items():\n",
    "    print(key, value)"
   ]
  },
  {
   "cell_type": "markdown",
   "metadata": {},
   "source": [
    "## Dictionary comprehensions"
   ]
  },
  {
   "cell_type": "code",
   "execution_count": null,
   "metadata": {},
   "outputs": [],
   "source": []
  }
 ],
 "metadata": {
  "kernelspec": {
   "display_name": "Python 3",
   "language": "python",
   "name": "python3"
  },
  "language_info": {
   "codemirror_mode": {
    "name": "ipython",
    "version": 3
   },
   "file_extension": ".py",
   "mimetype": "text/x-python",
   "name": "python",
   "nbconvert_exporter": "python",
   "pygments_lexer": "ipython3",
   "version": "3.8.2"
  }
 },
 "nbformat": 4,
 "nbformat_minor": 4
}
